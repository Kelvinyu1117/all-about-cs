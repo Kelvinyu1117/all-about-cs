{
 "nbformat": 4,
 "nbformat_minor": 2,
 "metadata": {
  "language_info": {
   "name": "python",
   "codemirror_mode": {
    "name": "ipython",
    "version": 3
   }
  },
  "orig_nbformat": 2,
  "file_extension": ".py",
  "mimetype": "text/x-python",
  "name": "python",
  "npconvert_exporter": "python",
  "pygments_lexer": "ipython3",
  "version": 3
 },
 "cells": [
  {
   "cell_type": "markdown",
   "metadata": {},
   "source": [
    "# Image Enhancement\n",
    "It is a process to enhance the quality of the image that the result is subjective\n",
    "\n",
    "## Common methods in spatial domain\n",
    "\n",
    "* Intensity transform\n",
    "\n",
    "* Histogram processing\n",
    "\n",
    "* Smoothing and sharpening spatial filters\n",
    "\n",
    "## Common Method in frequency domain\n",
    "\n",
    "* Smoothing and sharpening frequency domain filters\n",
    "\n",
    "* Selective filtering \n"
   ]
  },
  {
   "cell_type": "markdown",
   "metadata": {},
   "source": [
    "## Intensity Transformation\n",
    "\n",
    "* Negative Intensity Transformation\n",
    "\n",
    "    * Used for reverse the intensity level\n",
    "$$\n",
    "    \\text{The transfomation for the input intensity level r and output intensity level $\\in$ [0, L - 1]， where L is the number of gray level of k bits = $2^ k$ is given by }\\\\ \\\\ s = L - 1 - r \n",
    "$$\n",
    "\n",
    "* Log Transform\n",
    "\n",
    "    * Used for expanding the values of dark pixels and compressing the value of light pixels\n",
    "    \n",
    "$$\n",
    "    \\\\ s = c\\times log(r + 1)\n",
    "$$    \n",
    "\n",
    "\n",
    "* Gamma Transform\n",
    "\n",
    "    * $\\gamma < 1 $, map narrow range of dark values to wider range of output\n",
    "    * $\\gamma > 1 $, map larger range of dark values to narrow range of output\n",
    "    * $\\gamma == 1$, identity functiion => no change\n",
    "\n",
    "$$\n",
    "    \n",
    "$$\n",
    "\n",
    "### Piecewise-Linear Transform\n",
    "\n",
    "* Contrast Stretching\n",
    "\n",
    "* Intensity-level Slicing\n",
    " "
   ]
  },
  {
   "cell_type": "markdown",
   "metadata": {},
   "source": [
    "## Histogram Processing\n",
    "\n",
    "### Historgram Equalization\n",
    "\n",
    "### Local Histogram Equalization\n"
   ]
  }
 ]
}